{
 "cells": [
  {
   "cell_type": "code",
   "execution_count": 1,
   "id": "e2177a52",
   "metadata": {},
   "outputs": [],
   "source": [
    "import pandas as pd\n",
    "from pathlib import Path"
   ]
  },
  {
   "cell_type": "code",
   "execution_count": 2,
   "id": "38ca48b8",
   "metadata": {},
   "outputs": [],
   "source": [
    "# Load files\n",
    "schools_data = Path(\"Resources/schools_complete.csv\")\n",
    "students_data = Path(\"Resources/students_complete.csv\")"
   ]
  },
  {
   "cell_type": "code",
   "execution_count": 3,
   "id": "55ed765b",
   "metadata": {},
   "outputs": [],
   "source": [
    "# Read in and store data\n",
    "school_data = pd.read_csv(schools_data)\n",
    "student_data = pd.read_csv(students_data)"
   ]
  },
  {
   "cell_type": "code",
   "execution_count": null,
   "id": "0adc8eed",
   "metadata": {},
   "outputs": [],
   "source": []
  }
 ],
 "metadata": {
  "kernelspec": {
   "display_name": "Python 3 (ipykernel)",
   "language": "python",
   "name": "python3"
  },
  "language_info": {
   "codemirror_mode": {
    "name": "ipython",
    "version": 3
   },
   "file_extension": ".py",
   "mimetype": "text/x-python",
   "name": "python",
   "nbconvert_exporter": "python",
   "pygments_lexer": "ipython3",
   "version": "3.10.11"
  }
 },
 "nbformat": 4,
 "nbformat_minor": 5
}
